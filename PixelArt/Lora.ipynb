{
 "cells": [
  {
   "cell_type": "code",
   "execution_count": 7,
   "id": "5c1bc21a",
   "metadata": {},
   "outputs": [],
   "source": [
    "import pandas as pd\n",
    "import os\n",
    "import torch\n",
    "from torchvision import transforms\n",
    "from torch.utils.data import Dataset\n",
    "from PIL import Image\n",
    "\n",
    "class PixelArtDataset(Dataset):\n",
    "  def __init__(self):\n",
    "    super(PixelArtDataset).__init__()\n",
    "    \n",
    "    self.load_data()\n",
    "    self.transform = transforms.Compose([\n",
    "        transforms.Resize((512, 512), interpolation=transforms.InterpolationMode.NEAREST),\n",
    "        transforms.ToTensor(),\n",
    "        transforms.ConvertImageDtype(torch.float16),\n",
    "    ])\n",
    "\n",
    "  def load_data(self):\n",
    "    images = os.listdir(\"./data/images\")\n",
    "    meta = pd.read_parquet(\"./data/metadata.parquet\")\n",
    "    meta = meta.set_index(\"image_name\")\n",
    "    \n",
    "    self.data = []\n",
    "    for image in images:\n",
    "      if image in meta.index:\n",
    "        self.data.append({\n",
    "          \"image_path\": os.path.join(\"./data/images\", image),\n",
    "          \"prompt\": meta.loc[image, \"prompt\"],\n",
    "        })  \n",
    "\n",
    "  def __len__(self):\n",
    "    return len(self.data)\n",
    "\n",
    "  def __getitem__(self, idx):\n",
    "    data = self.data[idx]\n",
    "    \n",
    "    image = Image.open(data[\"image_path\"]).convert(\"RGB\")\n",
    "    image = self.transform(image)\n",
    "    \n",
    "    return {\n",
    "      \"image\": image,\n",
    "      \"prompt\": data[\"prompt\"],\n",
    "    }"
   ]
  },
  {
   "cell_type": "code",
   "execution_count": 8,
   "id": "83ad158b",
   "metadata": {},
   "outputs": [
    {
     "name": "stdout",
     "output_type": "stream",
     "text": [
      "cuda\n"
     ]
    }
   ],
   "source": [
    "device = \"cuda\" if torch.cuda.is_available() else \"cpu\"\n",
    "torch.set_default_device(device)\n",
    "print(device)"
   ]
  },
  {
   "cell_type": "code",
   "execution_count": 9,
   "id": "269e488f",
   "metadata": {},
   "outputs": [
    {
     "data": {
      "application/vnd.jupyter.widget-view+json": {
       "model_id": "8eac4984014a417facc4235502b952f4",
       "version_major": 2,
       "version_minor": 0
      },
      "text/plain": [
       "Loading pipeline components...:   0%|          | 0/7 [00:00<?, ?it/s]"
      ]
     },
     "metadata": {},
     "output_type": "display_data"
    }
   ],
   "source": [
    "from diffusers import StableDiffusionPipeline\n",
    "from diffusers.schedulers import PNDMScheduler\n",
    "\n",
    "pipe = StableDiffusionPipeline.from_pretrained(\n",
    "    \"sd-legacy/stable-diffusion-v1-5\", torch_dtype=torch.float16, use_safetensors=True\n",
    ").to(device)\n",
    "\n",
    "tokenizer = pipe.tokenizer\n",
    "text_encoder = pipe.text_encoder.requires_grad_(False)\n",
    "\n",
    "vae = pipe.vae.requires_grad_(False)\n",
    "unet = pipe.unet\n",
    "scheduler: PNDMScheduler = pipe.scheduler\n",
    "\n",
    "unet.train()\n",
    "pass"
   ]
  },
  {
   "cell_type": "code",
   "execution_count": 10,
   "id": "6d9c3565",
   "metadata": {},
   "outputs": [],
   "source": [
    "from torch.nn.functional import mse_loss\n",
    "\n",
    "TIMESTEPS = torch.tensor(50)\n",
    "\n",
    "def train_step(dataset, optimizer):\n",
    "  optimizer.zero_grad()\n",
    "  \n",
    "  for index in range(len(dataset)):\n",
    "    data = dataset[index]\n",
    "    \n",
    "    image = data[\"image\"].unsqueeze(0).to(device)\n",
    "    prompt = data[\"prompt\"]\n",
    "    \n",
    "    tokens = tokenizer(prompt, return_tensors=\"pt\", padding=True, truncation=True)\n",
    "    embeddings = text_encoder(tokens.input_ids).last_hidden_state\n",
    "  \n",
    "    latents = vae.encode(image).latent_dist.sample() * vae.config.scaling_factor\n",
    "    noise = torch.randn_like(latents)\n",
    "    latents = scheduler.add_noise(latents, noise, TIMESTEPS)\n",
    "    \n",
    "    predicted = unet(latents, TIMESTEPS, encoder_hidden_states=embeddings).sample\n",
    "    \n",
    "    loss = mse_loss(predicted, noise)\n",
    "    \n",
    "    loss.backward()\n",
    "    optimizer.step()\n",
    "    optimizer.zero_grad()\n",
    "    \n",
    "    print(f\"Processed {index}/{len(dataset)}. Loss: {loss.item()}\")"
   ]
  },
  {
   "cell_type": "code",
   "execution_count": 11,
   "id": "21998d7a",
   "metadata": {},
   "outputs": [],
   "source": [
    "optimizer = torch.optim.AdamW(unet.parameters(), lr=1e-10)"
   ]
  },
  {
   "cell_type": "code",
   "execution_count": 13,
   "id": "322bce55",
   "metadata": {},
   "outputs": [
    {
     "name": "stdout",
     "output_type": "stream",
     "text": [
      "Processed 0/2000. Loss: 0.277099609375\n",
      "Training interrupted.\n"
     ]
    }
   ],
   "source": [
    "try:\n",
    "  train_step(PixelArtDataset(), optimizer)\n",
    "except KeyboardInterrupt:\n",
    "  print(\"Training interrupted.\")\n",
    "  pass"
   ]
  },
  {
   "cell_type": "code",
   "execution_count": 15,
   "id": "d8abdb7a",
   "metadata": {},
   "outputs": [],
   "source": [
    "import numpy as np\n",
    "\n",
    "def generate_image(prompt: str, iters: int = 100):\n",
    "  with torch.no_grad():\n",
    "    tokens = tokenizer(prompt, return_tensors=\"pt\", padding=True, truncation=True)\n",
    "    embeddings = text_encoder(tokens.input_ids).last_hidden_state\n",
    "    \n",
    "    latents = torch.randn((1, unet.config.in_channels, 512 // 8, 512 // 8), dtype=torch.float16).to(device)\n",
    "    \n",
    "    scheduler.set_timesteps(iters)\n",
    "    \n",
    "    for t in scheduler.timesteps:\n",
    "      print(f\"Processing timestep {(100 - (t.item() * 0.1)):.2f}%\")\n",
    "      latent_model_input = scheduler.scale_model_input(latents, t)\n",
    "      \n",
    "      noise_pred = unet(latent_model_input, t, encoder_hidden_states=embeddings).sample\n",
    "      \n",
    "      latents = scheduler.step(noise_pred, t, latents).prev_sample\n",
    "    \n",
    "    image = vae.decode(latents / vae.config.scaling_factor).sample\n",
    "    image = (image / 2 + 0.5).clamp(0, 1).squeeze(0).permute(1, 2, 0).detach().cpu().numpy().astype(np.float32)\n",
    "    \n",
    "    return image"
   ]
  },
  {
   "cell_type": "code",
   "execution_count": 16,
   "id": "6772a7f5",
   "metadata": {},
   "outputs": [
    {
     "name": "stdout",
     "output_type": "stream",
     "text": [
      "Processing timestep 0.90%\n",
      "Processing timestep 1.90%\n",
      "Processing timestep 1.90%\n",
      "Processing timestep 2.90%\n",
      "Processing timestep 3.90%\n",
      "Processing timestep 4.90%\n",
      "Processing timestep 5.90%\n",
      "Processing timestep 6.90%\n",
      "Processing timestep 7.90%\n",
      "Processing timestep 8.90%\n",
      "Processing timestep 9.90%\n",
      "Processing timestep 10.90%\n",
      "Processing timestep 11.90%\n",
      "Processing timestep 12.90%\n",
      "Processing timestep 13.90%\n",
      "Processing timestep 14.90%\n",
      "Processing timestep 15.90%\n",
      "Processing timestep 16.90%\n",
      "Processing timestep 17.90%\n",
      "Processing timestep 18.90%\n",
      "Processing timestep 19.90%\n",
      "Processing timestep 20.90%\n",
      "Processing timestep 21.90%\n",
      "Processing timestep 22.90%\n",
      "Processing timestep 23.90%\n",
      "Processing timestep 24.90%\n",
      "Processing timestep 25.90%\n",
      "Processing timestep 26.90%\n",
      "Processing timestep 27.90%\n",
      "Processing timestep 28.90%\n",
      "Processing timestep 29.90%\n",
      "Processing timestep 30.90%\n",
      "Processing timestep 31.90%\n",
      "Processing timestep 32.90%\n",
      "Processing timestep 33.90%\n",
      "Processing timestep 34.90%\n",
      "Processing timestep 35.90%\n",
      "Processing timestep 36.90%\n",
      "Processing timestep 37.90%\n",
      "Processing timestep 38.90%\n",
      "Processing timestep 39.90%\n",
      "Processing timestep 40.90%\n",
      "Processing timestep 41.90%\n",
      "Processing timestep 42.90%\n",
      "Processing timestep 43.90%\n",
      "Processing timestep 44.90%\n",
      "Processing timestep 45.90%\n",
      "Processing timestep 46.90%\n",
      "Processing timestep 47.90%\n",
      "Processing timestep 48.90%\n",
      "Processing timestep 49.90%\n",
      "Processing timestep 50.90%\n",
      "Processing timestep 51.90%\n",
      "Processing timestep 52.90%\n",
      "Processing timestep 53.90%\n",
      "Processing timestep 54.90%\n",
      "Processing timestep 55.90%\n",
      "Processing timestep 56.90%\n",
      "Processing timestep 57.90%\n",
      "Processing timestep 58.90%\n",
      "Processing timestep 59.90%\n",
      "Processing timestep 60.90%\n",
      "Processing timestep 61.90%\n",
      "Processing timestep 62.90%\n",
      "Processing timestep 63.90%\n",
      "Processing timestep 64.90%\n",
      "Processing timestep 65.90%\n",
      "Processing timestep 66.90%\n",
      "Processing timestep 67.90%\n",
      "Processing timestep 68.90%\n",
      "Processing timestep 69.90%\n",
      "Processing timestep 70.90%\n",
      "Processing timestep 71.90%\n",
      "Processing timestep 72.90%\n",
      "Processing timestep 73.90%\n",
      "Processing timestep 74.90%\n",
      "Processing timestep 75.90%\n",
      "Processing timestep 76.90%\n",
      "Processing timestep 77.90%\n",
      "Processing timestep 78.90%\n",
      "Processing timestep 79.90%\n",
      "Processing timestep 80.90%\n",
      "Processing timestep 81.90%\n",
      "Processing timestep 82.90%\n",
      "Processing timestep 83.90%\n",
      "Processing timestep 84.90%\n",
      "Processing timestep 85.90%\n",
      "Processing timestep 86.90%\n",
      "Processing timestep 87.90%\n",
      "Processing timestep 88.90%\n",
      "Processing timestep 89.90%\n",
      "Processing timestep 90.90%\n",
      "Processing timestep 91.90%\n",
      "Processing timestep 92.90%\n",
      "Processing timestep 93.90%\n",
      "Processing timestep 94.90%\n",
      "Processing timestep 95.90%\n",
      "Processing timestep 96.90%\n",
      "Processing timestep 97.90%\n",
      "Processing timestep 98.90%\n",
      "Processing timestep 99.90%\n"
     ]
    },
    {
     "data": {
      "text/plain": [
       "<matplotlib.image.AxesImage at 0x2790acad890>"
      ]
     },
     "execution_count": 16,
     "metadata": {},
     "output_type": "execute_result"
    },
    {
     "data": {
      "image/png": "[encoded data removed]",
      "text/plain": [
       "<Figure size 640x480 with 1 Axes>"
      ]
     },
     "metadata": {},
     "output_type": "display_data"
    }
   ],
   "source": [
    "import matplotlib.pyplot as plt\n",
    "\n",
    "image = generate_image(\"A cat between a lake and a mountain\", 100)\n",
    "\n",
    "plt.imshow(image)"
   ]
  }
 ],
 "metadata": {
  "kernelspec": {
   "display_name": ".venv",
   "language": "python",
   "name": "python3"
  },
  "language_info": {
   "codemirror_mode": {
    "name": "ipython",
    "version": 3
   },
   "file_extension": ".py",
   "mimetype": "text/x-python",
   "name": "python",
   "nbconvert_exporter": "python",
   "pygments_lexer": "ipython3",
   "version": "3.11.3"
  }
 },
 "nbformat": 4,
 "nbformat_minor": 5
}
